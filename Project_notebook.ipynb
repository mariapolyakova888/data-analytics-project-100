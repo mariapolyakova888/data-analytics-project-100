{
 "cells": [
  {
   "cell_type": "markdown",
   "id": "72cf12e1-7d8e-4930-b1e7-ad75226811ac",
   "metadata": {},
   "source": [
    "### Шаг 1. Установим библиотеки Pandas и Requests ###"
   ]
  },
  {
   "cell_type": "code",
   "execution_count": 26,
   "id": "632f7b21-e6c4-4342-94ca-7a3854f9ee2d",
   "metadata": {},
   "outputs": [],
   "source": [
    "import pandas as pd\n",
    "import requests"
   ]
  },
  {
   "cell_type": "markdown",
   "id": "b62cbc8d-56a9-4392-8cfa-1c4ee0e393ae",
   "metadata": {},
   "source": [
    "### Шаг 2. Запросы к API ###"
   ]
  },
  {
   "cell_type": "markdown",
   "id": "4d704357-d546-4225-b9b8-30587f02da9a",
   "metadata": {},
   "source": [
    "Запросим данные за период с 2023-03-01 по 2023-09-01:"
   ]
  },
  {
   "cell_type": "markdown",
   "id": "4bd8021f-5436-4c21-9148-86f8d96c9e71",
   "metadata": {},
   "source": [
    "* по визитам:"
   ]
  },
  {
   "cell_type": "code",
   "execution_count": 35,
   "id": "7a261d6e-f604-42ac-98d4-a1d76f284f6e",
   "metadata": {},
   "outputs": [],
   "source": [
    "visits = requests.get('https://data-charts-api.hexlet.app/visits?begin=2023-03-01&end=2023-09-01')"
   ]
  },
  {
   "cell_type": "code",
   "execution_count": 36,
   "id": "bf227504-2559-4921-8029-7e616364a243",
   "metadata": {},
   "outputs": [],
   "source": [
    "df_vis = visits.json()"
   ]
  },
  {
   "cell_type": "code",
   "execution_count": 37,
   "id": "cb93a5ea-7804-4b01-97d0-a8ed33503374",
   "metadata": {},
   "outputs": [],
   "source": [
    "df_vis_pd = pd.DataFrame(df_vis)"
   ]
  },
  {
   "cell_type": "code",
   "execution_count": 39,
   "id": "86c57445-d041-4a46-af13-f86e1a0d410a",
   "metadata": {},
   "outputs": [
    {
     "data": {
      "text/html": [
       "<div>\n",
       "<style scoped>\n",
       "    .dataframe tbody tr th:only-of-type {\n",
       "        vertical-align: middle;\n",
       "    }\n",
       "\n",
       "    .dataframe tbody tr th {\n",
       "        vertical-align: top;\n",
       "    }\n",
       "\n",
       "    .dataframe thead th {\n",
       "        text-align: right;\n",
       "    }\n",
       "</style>\n",
       "<table border=\"1\" class=\"dataframe\">\n",
       "  <thead>\n",
       "    <tr style=\"text-align: right;\">\n",
       "      <th></th>\n",
       "      <th>datetime</th>\n",
       "      <th>platform</th>\n",
       "      <th>user_agent</th>\n",
       "      <th>visit_id</th>\n",
       "    </tr>\n",
       "  </thead>\n",
       "  <tbody>\n",
       "    <tr>\n",
       "      <th>0</th>\n",
       "      <td>Wed, 01 Mar 2023 23:17:37 GMT</td>\n",
       "      <td>web</td>\n",
       "      <td>Mozilla/5.0 (Windows NT 10.0; Win64; x64) Appl...</td>\n",
       "      <td>1de9ea66-70d3-4a1f-8735-df5ef7697fb9</td>\n",
       "    </tr>\n",
       "    <tr>\n",
       "      <th>1</th>\n",
       "      <td>Sat, 04 Mar 2023 03:23:34 GMT</td>\n",
       "      <td>web</td>\n",
       "      <td>Mozilla/5.0 (Windows NT 10.0; Win64; x64) Appl...</td>\n",
       "      <td>1de9ea66-70d3-4a1f-8735-df5ef7697fb9</td>\n",
       "    </tr>\n",
       "    <tr>\n",
       "      <th>2</th>\n",
       "      <td>Wed, 01 Mar 2023 12:57:13 GMT</td>\n",
       "      <td>web</td>\n",
       "      <td>Mozilla/5.0 (Windows NT 10.0; Win64; x64) Appl...</td>\n",
       "      <td>f149f542-e935-4870-9734-6b4501eaf614</td>\n",
       "    </tr>\n",
       "    <tr>\n",
       "      <th>3</th>\n",
       "      <td>Wed, 01 Mar 2023 13:07:19 GMT</td>\n",
       "      <td>web</td>\n",
       "      <td>Mozilla/5.0 (Macintosh; Intel Mac OS X 10_15_7...</td>\n",
       "      <td>08f0ebd4-950c-4dd9-8e97-b5bdf073eed1</td>\n",
       "    </tr>\n",
       "    <tr>\n",
       "      <th>4</th>\n",
       "      <td>Sun, 05 Mar 2023 22:02:39 GMT</td>\n",
       "      <td>web</td>\n",
       "      <td>Mozilla/5.0 (Macintosh; Intel Mac OS X 10_15_7...</td>\n",
       "      <td>08f0ebd4-950c-4dd9-8e97-b5bdf073eed1</td>\n",
       "    </tr>\n",
       "  </tbody>\n",
       "</table>\n",
       "</div>"
      ],
      "text/plain": [
       "                        datetime platform  \\\n",
       "0  Wed, 01 Mar 2023 23:17:37 GMT      web   \n",
       "1  Sat, 04 Mar 2023 03:23:34 GMT      web   \n",
       "2  Wed, 01 Mar 2023 12:57:13 GMT      web   \n",
       "3  Wed, 01 Mar 2023 13:07:19 GMT      web   \n",
       "4  Sun, 05 Mar 2023 22:02:39 GMT      web   \n",
       "\n",
       "                                          user_agent  \\\n",
       "0  Mozilla/5.0 (Windows NT 10.0; Win64; x64) Appl...   \n",
       "1  Mozilla/5.0 (Windows NT 10.0; Win64; x64) Appl...   \n",
       "2  Mozilla/5.0 (Windows NT 10.0; Win64; x64) Appl...   \n",
       "3  Mozilla/5.0 (Macintosh; Intel Mac OS X 10_15_7...   \n",
       "4  Mozilla/5.0 (Macintosh; Intel Mac OS X 10_15_7...   \n",
       "\n",
       "                               visit_id  \n",
       "0  1de9ea66-70d3-4a1f-8735-df5ef7697fb9  \n",
       "1  1de9ea66-70d3-4a1f-8735-df5ef7697fb9  \n",
       "2  f149f542-e935-4870-9734-6b4501eaf614  \n",
       "3  08f0ebd4-950c-4dd9-8e97-b5bdf073eed1  \n",
       "4  08f0ebd4-950c-4dd9-8e97-b5bdf073eed1  "
      ]
     },
     "execution_count": 39,
     "metadata": {},
     "output_type": "execute_result"
    }
   ],
   "source": [
    "df_vis_pd.head() # получим первые 5 строк таблицы"
   ]
  },
  {
   "cell_type": "code",
   "execution_count": 38,
   "id": "67b7694c-9b6c-4bbd-b14e-91b5acaba0fc",
   "metadata": {},
   "outputs": [
    {
     "name": "stdout",
     "output_type": "stream",
     "text": [
      "                             datetime platform  \\\n",
      "0       Wed, 01 Mar 2023 23:17:37 GMT      web   \n",
      "1       Sat, 04 Mar 2023 03:23:34 GMT      web   \n",
      "2       Wed, 01 Mar 2023 12:57:13 GMT      web   \n",
      "3       Wed, 01 Mar 2023 13:07:19 GMT      web   \n",
      "4       Sun, 05 Mar 2023 22:02:39 GMT      web   \n",
      "...                               ...      ...   \n",
      "308866  Sun, 27 Aug 2023 17:38:56 GMT      web   \n",
      "308867  Sun, 27 Aug 2023 03:54:11 GMT      web   \n",
      "308868  Tue, 29 Aug 2023 00:33:03 GMT      web   \n",
      "308869  Wed, 30 Aug 2023 07:46:24 GMT      web   \n",
      "308870  Thu, 31 Aug 2023 23:02:00 GMT      web   \n",
      "\n",
      "                                               user_agent  \\\n",
      "0       Mozilla/5.0 (Windows NT 10.0; Win64; x64) Appl...   \n",
      "1       Mozilla/5.0 (Windows NT 10.0; Win64; x64) Appl...   \n",
      "2       Mozilla/5.0 (Windows NT 10.0; Win64; x64) Appl...   \n",
      "3       Mozilla/5.0 (Macintosh; Intel Mac OS X 10_15_7...   \n",
      "4       Mozilla/5.0 (Macintosh; Intel Mac OS X 10_15_7...   \n",
      "...                                                   ...   \n",
      "308866  Mozilla/5.0 (Macintosh; Intel Mac OS X 10_15_7...   \n",
      "308867  Mozilla/5.0 (Windows NT 10.0; Win64; x64) Appl...   \n",
      "308868  Mozilla/5.0 (Windows NT 10.0; WOW64; Trident/7...   \n",
      "308869  Mozilla/5.0 (Windows NT 10.0; WOW64; Trident/7...   \n",
      "308870  Mozilla/5.0 (Windows NT 10.0; Win64; x64; rv:1...   \n",
      "\n",
      "                                    visit_id  \n",
      "0       1de9ea66-70d3-4a1f-8735-df5ef7697fb9  \n",
      "1       1de9ea66-70d3-4a1f-8735-df5ef7697fb9  \n",
      "2       f149f542-e935-4870-9734-6b4501eaf614  \n",
      "3       08f0ebd4-950c-4dd9-8e97-b5bdf073eed1  \n",
      "4       08f0ebd4-950c-4dd9-8e97-b5bdf073eed1  \n",
      "...                                      ...  \n",
      "308866  553eb09f-8809-429f-8f01-876f18305c96  \n",
      "308867  cc664f35-6248-4953-81fd-1661cb91485c  \n",
      "308868  99f32105-05b7-424e-ab3c-b3630e892d21  \n",
      "308869  99f32105-05b7-424e-ab3c-b3630e892d21  \n",
      "308870  8d865a57-5786-4b38-9dc6-d95ca3877135  \n",
      "\n",
      "[308871 rows x 4 columns]\n"
     ]
    }
   ],
   "source": [
    "print(df_vis_pd) # получим все строки с учетом периода с 2023-03-01 по 2023-09-01"
   ]
  },
  {
   "cell_type": "code",
   "execution_count": 33,
   "id": "e18d912e-56bd-41c3-a250-26ac63137623",
   "metadata": {},
   "outputs": [],
   "source": [
    "response = requests.get('https://data-charts-api.hexlet.app/visits?begin=2023-03-01&end=2023-09-01')"
   ]
  },
  {
   "cell_type": "markdown",
   "id": "50816ce1-90b0-4c41-803a-0aede61e54a5",
   "metadata": {},
   "source": [
    "* по регистрациям:"
   ]
  },
  {
   "cell_type": "code",
   "execution_count": 41,
   "id": "5f32973b-c86e-4162-946e-a0de4842ef6b",
   "metadata": {},
   "outputs": [],
   "source": [
    "registrations = requests.get('https://data-charts-api.hexlet.app/registrations?begin=2023-03-01&end=2023-09-01')"
   ]
  },
  {
   "cell_type": "code",
   "execution_count": 42,
   "id": "1be0cad9-63d8-481d-b6e3-705ea3ad520c",
   "metadata": {},
   "outputs": [],
   "source": [
    "df_reg = registrations.json()"
   ]
  },
  {
   "cell_type": "code",
   "execution_count": 43,
   "id": "28d39689-6303-410f-8d94-f08768011957",
   "metadata": {},
   "outputs": [],
   "source": [
    "df_reg_pd = pd.DataFrame(df_reg)"
   ]
  },
  {
   "cell_type": "code",
   "execution_count": 44,
   "id": "792e5591-5dfe-459e-88ad-244dd5429139",
   "metadata": {},
   "outputs": [
    {
     "data": {
      "text/html": [
       "<div>\n",
       "<style scoped>\n",
       "    .dataframe tbody tr th:only-of-type {\n",
       "        vertical-align: middle;\n",
       "    }\n",
       "\n",
       "    .dataframe tbody tr th {\n",
       "        vertical-align: top;\n",
       "    }\n",
       "\n",
       "    .dataframe thead th {\n",
       "        text-align: right;\n",
       "    }\n",
       "</style>\n",
       "<table border=\"1\" class=\"dataframe\">\n",
       "  <thead>\n",
       "    <tr style=\"text-align: right;\">\n",
       "      <th></th>\n",
       "      <th>datetime</th>\n",
       "      <th>email</th>\n",
       "      <th>platform</th>\n",
       "      <th>registration_type</th>\n",
       "      <th>user_id</th>\n",
       "    </tr>\n",
       "  </thead>\n",
       "  <tbody>\n",
       "    <tr>\n",
       "      <th>0</th>\n",
       "      <td>Wed, 01 Mar 2023 13:21:20 GMT</td>\n",
       "      <td>jlane@example.net</td>\n",
       "      <td>web</td>\n",
       "      <td>google</td>\n",
       "      <td>8dd9b457-f02e-4cff-a66a-d70838849f04</td>\n",
       "    </tr>\n",
       "    <tr>\n",
       "      <th>1</th>\n",
       "      <td>Wed, 01 Mar 2023 01:14:06 GMT</td>\n",
       "      <td>dyerkenneth@example.net</td>\n",
       "      <td>web</td>\n",
       "      <td>yandex</td>\n",
       "      <td>52e2b626-c6fa-4919-a67d-09adb33accdc</td>\n",
       "    </tr>\n",
       "    <tr>\n",
       "      <th>2</th>\n",
       "      <td>Wed, 01 Mar 2023 19:47:32 GMT</td>\n",
       "      <td>kwade@example.com</td>\n",
       "      <td>web</td>\n",
       "      <td>yandex</td>\n",
       "      <td>bab974bd-2176-4497-acb2-4bc61ca93f5c</td>\n",
       "    </tr>\n",
       "    <tr>\n",
       "      <th>3</th>\n",
       "      <td>Wed, 01 Mar 2023 19:19:26 GMT</td>\n",
       "      <td>fisherbrian@example.net</td>\n",
       "      <td>web</td>\n",
       "      <td>email</td>\n",
       "      <td>b517892a-15c0-4320-9f33-e65db1110395</td>\n",
       "    </tr>\n",
       "    <tr>\n",
       "      <th>4</th>\n",
       "      <td>Wed, 01 Mar 2023 02:30:54 GMT</td>\n",
       "      <td>johngomez@example.org</td>\n",
       "      <td>web</td>\n",
       "      <td>google</td>\n",
       "      <td>bd38427f-7120-4c14-a384-889a2335108b</td>\n",
       "    </tr>\n",
       "  </tbody>\n",
       "</table>\n",
       "</div>"
      ],
      "text/plain": [
       "                        datetime                    email platform  \\\n",
       "0  Wed, 01 Mar 2023 13:21:20 GMT        jlane@example.net      web   \n",
       "1  Wed, 01 Mar 2023 01:14:06 GMT  dyerkenneth@example.net      web   \n",
       "2  Wed, 01 Mar 2023 19:47:32 GMT        kwade@example.com      web   \n",
       "3  Wed, 01 Mar 2023 19:19:26 GMT  fisherbrian@example.net      web   \n",
       "4  Wed, 01 Mar 2023 02:30:54 GMT    johngomez@example.org      web   \n",
       "\n",
       "  registration_type                               user_id  \n",
       "0            google  8dd9b457-f02e-4cff-a66a-d70838849f04  \n",
       "1            yandex  52e2b626-c6fa-4919-a67d-09adb33accdc  \n",
       "2            yandex  bab974bd-2176-4497-acb2-4bc61ca93f5c  \n",
       "3             email  b517892a-15c0-4320-9f33-e65db1110395  \n",
       "4            google  bd38427f-7120-4c14-a384-889a2335108b  "
      ]
     },
     "execution_count": 44,
     "metadata": {},
     "output_type": "execute_result"
    }
   ],
   "source": [
    "df_reg_pd.head() # получим первые 5 строк таблицы"
   ]
  },
  {
   "cell_type": "code",
   "execution_count": 45,
   "id": "2ec804fb-9de0-4e45-aa78-d3cd2f2ba5b6",
   "metadata": {},
   "outputs": [
    {
     "name": "stdout",
     "output_type": "stream",
     "text": [
      "                            datetime                         email platform  \\\n",
      "0      Wed, 01 Mar 2023 13:21:20 GMT             jlane@example.net      web   \n",
      "1      Wed, 01 Mar 2023 01:14:06 GMT       dyerkenneth@example.net      web   \n",
      "2      Wed, 01 Mar 2023 19:47:32 GMT             kwade@example.com      web   \n",
      "3      Wed, 01 Mar 2023 19:19:26 GMT       fisherbrian@example.net      web   \n",
      "4      Wed, 01 Mar 2023 02:30:54 GMT         johngomez@example.org      web   \n",
      "...                              ...                           ...      ...   \n",
      "28192  Thu, 31 Aug 2023 20:51:43 GMT       lunazachary@example.com      ios   \n",
      "28193  Thu, 31 Aug 2023 23:07:32 GMT        amyramirez@example.org      ios   \n",
      "28194  Thu, 31 Aug 2023 14:56:54 GMT         webermark@example.org      ios   \n",
      "28195  Thu, 31 Aug 2023 22:52:45 GMT  alexandermichael@example.com      ios   \n",
      "28196  Thu, 31 Aug 2023 20:54:05 GMT            jose04@example.net      ios   \n",
      "\n",
      "      registration_type                               user_id  \n",
      "0                google  8dd9b457-f02e-4cff-a66a-d70838849f04  \n",
      "1                yandex  52e2b626-c6fa-4919-a67d-09adb33accdc  \n",
      "2                yandex  bab974bd-2176-4497-acb2-4bc61ca93f5c  \n",
      "3                 email  b517892a-15c0-4320-9f33-e65db1110395  \n",
      "4                google  bd38427f-7120-4c14-a384-889a2335108b  \n",
      "...                 ...                                   ...  \n",
      "28192             email  7065467a-39d2-46c7-9041-ed7fbc8d801f  \n",
      "28193             apple  93a04829-5ab4-48b5-abf9-8e267150c512  \n",
      "28194             apple  6ff0e3b5-af42-42ba-ae6e-395051d79360  \n",
      "28195             email  6d8b00e7-4696-43b1-8d79-91f2b7bef9cd  \n",
      "28196             apple  36af6ad6-0c91-4474-8466-ffc1907bfdd6  \n",
      "\n",
      "[28197 rows x 5 columns]\n"
     ]
    }
   ],
   "source": [
    "print(df_reg_pd) # получим все строки с учетом периода с 2023-03-01 по 2023-09-01"
   ]
  }
 ],
 "metadata": {
  "kernelspec": {
   "display_name": "Python 3 (ipykernel)",
   "language": "python",
   "name": "python3"
  },
  "language_info": {
   "codemirror_mode": {
    "name": "ipython",
    "version": 3
   },
   "file_extension": ".py",
   "mimetype": "text/x-python",
   "name": "python",
   "nbconvert_exporter": "python",
   "pygments_lexer": "ipython3",
   "version": "3.11.5"
  }
 },
 "nbformat": 4,
 "nbformat_minor": 5
}
